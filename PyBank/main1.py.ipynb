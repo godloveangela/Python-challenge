{
 "cells": [
  {
   "cell_type": "markdown",
   "metadata": {},
   "source": [
    "Financial Analysis"
   ]
  },
  {
   "cell_type": "code",
   "execution_count": null,
   "metadata": {},
   "outputs": [],
   "source": [
    "import csv\n",
    "import numpy as np"
   ]
  },
  {
   "cell_type": "code",
   "execution_count": 6,
   "metadata": {
    "scrolled": true
   },
   "outputs": [],
   "source": [
    "with open('Resources/budget_data.csv') as f:\n",
    "    f_csv = csv.reader(f)\n",
    "    headers = next(f_csv)\n",
    "    Total_Months = 0\n",
    "    Total_Profit = 0\n",
    "    save_list = []\n",
    "    for row in f_csv:\n",
    "        Total_Months += 1\n",
    "        Total_Profit += float(row[1])\n",
    "        save_list.append(row)"
   ]
  },
  {
   "cell_type": "code",
   "execution_count": 3,
   "metadata": {
    "scrolled": true
   },
   "outputs": [],
   "source": [
    "profit_change_list = []\n",
    "profit_change_max = 0\n",
    "month_max = ''\n",
    "profit_change_min = 0\n",
    "month_min = ''\n",
    "for i in range(len(save_list)):\n",
    "    if i == 0:\n",
    "        pass\n",
    "    else:\n",
    "        profit_change = float(save_list[i][1]) - float(save_list[i-1][1])\n",
    "        if profit_change > profit_change_max:\n",
    "            profit_change_max = profit_change\n",
    "            month_max = save_list[i][0]\n",
    "        else:\n",
    "            pass\n",
    "        if profit_change < profit_change_min:\n",
    "            profit_change_min = profit_change\n",
    "            month_min = save_list[i][0]\n",
    "        else:\n",
    "            pass        \n",
    "        profit_change_list.append(profit_change)"
   ]
  },
  {
   "cell_type": "code",
   "execution_count": 8,
   "metadata": {
    "scrolled": true
   },
   "outputs": [
    {
     "name": "stdout",
     "output_type": "stream",
     "text": [
      "Total Months:86\n",
      "Total: $38382578.0\n",
      "Average  Change:$-2315.12\n",
      "Greatest Increase in Profits: Feb-2012($1926159.0)\n",
      "Greatest Decrease in Profits: Sep-2013($-2196167.0)\n"
     ]
    }
   ],
   "source": [
    "print('Total Months:'+str(Total_Months))\n",
    "print('Total: $'+str(Total_Profit))\n",
    "print('Average  Change:$'+str(round(np.mean(profit_change_list),2)))\n",
    "print('Greatest Increase in Profits: '+month_max+'($'+str(profit_change_max)+')')\n",
    "print('Greatest Decrease in Profits: '+month_min+'($'+str(profit_change_min)+')')"
   ]
  },
  {
   "cell_type": "code",
   "execution_count": 9,
   "metadata": {},
   "outputs": [],
   "source": [
    "f = open(\"Analysis/Pybank.txt\",'a') "
   ]
  },
  {
   "cell_type": "code",
   "execution_count": 10,
   "metadata": {},
   "outputs": [],
   "source": [
    "f.write('Total Months:'+str(Total_Months))\n",
    "f.write(\"\\n\")    \n",
    "f.write('Total: $'+str(Total_Profit))\n",
    "f.write(\"\\n\")    \n",
    "f.write('Average  Change:$'+str(round(np.mean(profit_change_list),2)))\n",
    "f.write(\"\\n\")    \n",
    "f.write('Greatest Increase in Profits: '+month_max+'($'+str(profit_change_max)+')')\n",
    "f.write(\"\\n\")    \n",
    "f.write('Greatest Decrease in Profits: '+month_min+'($'+str(profit_change_min)+')')\n",
    "f.write(\"\\n\")    \n",
    "f.close()"
   ]
  }
 ],
 "metadata": {
  "kernelspec": {
   "display_name": "Python 3.9.7 ('base')",
   "language": "python",
   "name": "python3"
  },
  "language_info": {
   "codemirror_mode": {
    "name": "ipython",
    "version": 3
   },
   "file_extension": ".py",
   "mimetype": "text/x-python",
   "name": "python",
   "nbconvert_exporter": "python",
   "pygments_lexer": "ipython3",
   "version": "3.9.7"
  },
  "toc": {
   "base_numbering": 1,
   "nav_menu": {},
   "number_sections": true,
   "sideBar": true,
   "skip_h1_title": false,
   "title_cell": "Table of Contents",
   "title_sidebar": "Contents",
   "toc_cell": false,
   "toc_position": {},
   "toc_section_display": true,
   "toc_window_display": false
  },
  "varInspector": {
   "cols": {
    "lenName": 16,
    "lenType": 16,
    "lenVar": 40
   },
   "kernels_config": {
    "python": {
     "delete_cmd_postfix": "",
     "delete_cmd_prefix": "del ",
     "library": "var_list.py",
     "varRefreshCmd": "print(var_dic_list())"
    },
    "r": {
     "delete_cmd_postfix": ") ",
     "delete_cmd_prefix": "rm(",
     "library": "var_list.r",
     "varRefreshCmd": "cat(var_dic_list()) "
    }
   },
   "types_to_exclude": [
    "module",
    "function",
    "builtin_function_or_method",
    "instance",
    "_Feature"
   ],
   "window_display": false
  },
  "vscode": {
   "interpreter": {
    "hash": "ba36a2830965e76ff6c4189cefddc471503698f8f8070ee94822ed10fce6b711"
   }
  }
 },
 "nbformat": 4,
 "nbformat_minor": 2
}
