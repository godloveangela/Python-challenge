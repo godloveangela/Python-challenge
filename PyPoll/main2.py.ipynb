{
 "cells": [
  {
   "cell_type": "markdown",
   "metadata": {},
   "source": [
    "Financial Analysis"
   ]
  },
  {
   "cell_type": "code",
   "execution_count": 1,
   "metadata": {},
   "outputs": [],
   "source": [
    "import csv\n",
    "import numpy as np"
   ]
  },
  {
   "cell_type": "markdown",
   "metadata": {},
   "source": [
    "Election Results"
   ]
  },
  {
   "cell_type": "code",
   "execution_count": 3,
   "metadata": {},
   "outputs": [],
   "source": [
    "with open('Resources/election_data.csv') as f:\n",
    "    f_csv = csv.reader(f)\n",
    "    #获取headers\n",
    "    headers = next(f_csv)\n",
    "    #循环获取每一行的内容\n",
    "    Total_votes = 0\n",
    "    candidate_list = []\n",
    "    for row in f_csv:\n",
    "        Total_votes += 1\n",
    "        candidate_list.append(row[2])"
   ]
  },
  {
   "cell_type": "code",
   "execution_count": 4,
   "metadata": {},
   "outputs": [],
   "source": [
    "from collections import Counter\n",
    "count = Counter(candidate_list)"
   ]
  },
  {
   "cell_type": "code",
   "execution_count": 5,
   "metadata": {},
   "outputs": [
    {
     "name": "stdout",
     "output_type": "stream",
     "text": [
      "Total Votes: 3521001\n",
      "------------------------------\n",
      "Khan:63.0% (2218231)\n",
      "Correy:20.0% (704200)\n",
      "Li:14.0% (492940)\n",
      "O'Tooley:3.0% (105630)\n",
      "------------------------------\n",
      "Winner: Khan\n"
     ]
    }
   ],
   "source": [
    "print('Total Votes: '+str(Total_votes))\n",
    "print('------------------------------')\n",
    "for i in range(len(list(count.keys()))):\n",
    "    print(list(count.keys())[i]+':'+str(round(int(list(count.values())[i])/Total_votes*100,3))+'% ('+str(list(count.values())[i])+')')\n",
    "print('------------------------------')\n",
    "print('Winner: '+max(count,key=count.get))"
   ]
  },
  {
   "cell_type": "code",
   "execution_count": 6,
   "metadata": {},
   "outputs": [],
   "source": [
    "f = open(\"Analysis/PyPoll.txt\",'a') "
   ]
  },
  {
   "cell_type": "code",
   "execution_count": 7,
   "metadata": {},
   "outputs": [],
   "source": [
    "f.write('Total Votes: '+str(Total_votes))\n",
    "f.write(\"\\n\") \n",
    "f.write('------------------------------')\n",
    "f.write(\"\\n\") \n",
    "for i in range(len(list(count.keys()))):\n",
    "    f.write(list(count.keys())[i]+':'+str(round(int(list(count.values())[i])/Total_votes*100,3))+'% ('+str(list(count.values())[i])+')')\n",
    "f.write(\"\\n\") \n",
    "f.write('------------------------------')\n",
    "f.write(\"\\n\") \n",
    "f.write('Winner: '+max(count,key=count.get))\n",
    "f.write(\"\\n\") \n",
    "f.close()"
   ]
  }
 ],
 "metadata": {
  "kernelspec": {
   "display_name": "Python 3.9.7 ('base')",
   "language": "python",
   "name": "python3"
  },
  "language_info": {
   "codemirror_mode": {
    "name": "ipython",
    "version": 3
   },
   "file_extension": ".py",
   "mimetype": "text/x-python",
   "name": "python",
   "nbconvert_exporter": "python",
   "pygments_lexer": "ipython3",
   "version": "3.9.7"
  },
  "toc": {
   "base_numbering": 1,
   "nav_menu": {},
   "number_sections": true,
   "sideBar": true,
   "skip_h1_title": false,
   "title_cell": "Table of Contents",
   "title_sidebar": "Contents",
   "toc_cell": false,
   "toc_position": {},
   "toc_section_display": true,
   "toc_window_display": false
  },
  "varInspector": {
   "cols": {
    "lenName": 16,
    "lenType": 16,
    "lenVar": 40
   },
   "kernels_config": {
    "python": {
     "delete_cmd_postfix": "",
     "delete_cmd_prefix": "del ",
     "library": "var_list.py",
     "varRefreshCmd": "print(var_dic_list())"
    },
    "r": {
     "delete_cmd_postfix": ") ",
     "delete_cmd_prefix": "rm(",
     "library": "var_list.r",
     "varRefreshCmd": "cat(var_dic_list()) "
    }
   },
   "types_to_exclude": [
    "module",
    "function",
    "builtin_function_or_method",
    "instance",
    "_Feature"
   ],
   "window_display": false
  },
  "vscode": {
   "interpreter": {
    "hash": "ba36a2830965e76ff6c4189cefddc471503698f8f8070ee94822ed10fce6b711"
   }
  }
 },
 "nbformat": 4,
 "nbformat_minor": 2
}
